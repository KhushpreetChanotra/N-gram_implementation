{
  "cells": [
    {
      "cell_type": "code",
      "execution_count": null,
      "id": "6134200d",
      "metadata": {
        "id": "6134200d"
      },
      "outputs": [],
      "source": [
        "import numpy as np\n",
        "import tensorflow as tf\n",
        "from tensorflow.keras.preprocessing.text import Tokenizer\n",
        "from tensorflow.keras.preprocessing.sequence import pad_sequences\n",
        "from tensorflow.keras.models import Sequential\n",
        "from tensorflow.keras.layers import Embedding, LSTM, Dense\n",
        "\n",
        "# Reading corpus the text file\n",
        "with open(\"output.txt\", 'r', encoding='utf-8') as myfile:\n",
        "    mytext = myfile.read()"
      ]
    },
    {
      "cell_type": "code",
      "source": [],
      "metadata": {
        "id": "a-1irBc3CEpC"
      },
      "id": "a-1irBc3CEpC",
      "execution_count": null,
      "outputs": []
    },
    {
      "cell_type": "code",
      "execution_count": null,
      "id": "ef3afb16",
      "metadata": {
        "colab": {
          "base_uri": "https://localhost:8080/",
          "height": 123
        },
        "id": "ef3afb16",
        "outputId": "16c977a6-5ce0-4a2f-905f-ee0753e8dc37"
      },
      "outputs": [
        {
          "output_type": "execute_result",
          "data": {
            "text/plain": [
              "'DevOps Exception Variable Heap Cryptography Memory SQL Branch Function DevOps VersionControl PullRequest Networking APIKey HTML Security SQL REST Event Event Cryptography Repository REST Performance SQL Markup Heap Firewall Library HTTP ORM CSS AI XML Kanban API NoSQL Conditional JavaScript Git ErrorHandling Stack Debugging Performance AI Agile CRUD BigData Memory Authorization Socket Exception REST Function DOM Authentication DevOps HTTP Library Complexity Repository Waterfall Variable Git GarbageCollection Function TCP-IP Dependency Authorization TCP-IP CRUD Agile Algorithm Event Waterfall Heap XML Agile JavaScript MachineLearning Complexity Memory Commit Scalability DOM ContinuousIntegration AJAX API Conditional Deployment APIEndpoint APIEndpoint Branch Branch HTML Branch MachineLearning Scripting Authorization Authentication Security ContinuousIntegration Database Repository Scripting REST Loop Scripting AJAX Networking JSON VersionControl Automation DOM Markup Agile AJAX PullRequest ORM Profiling VersionControl Dependency Cryptography DNS Git BigData CRUD Merge Scrum Merge ORM Scalability Waterfall Markup TCP-IP JSON Cryptography Bitwise Security AJAX AI GarbageCollection Optimization GarbageCollection Repository Scalability Automation Bitwise Authorization Bitwise Complexity Variable JSON JavaScript JavaScript JavaScript APIKey ContinuousIntegration Git MachineLearning Waterfall GarbageCollection Commit ContinuousIntegration VersionControl AJAX Algorithm VersionControl Automation ORM Scrum AJAX Waterfall Authorization Socket Loop UnitTesting Merge AJAX BigData Firewall Commit Library Variable Markup Algorithm Merge IntegrationTesting Scripting TCP-IP Kanban Waterfall ORM APIKey REST Profiling Cryptography ErrorHandling Networking Automation AI Markup ORM Optimization Kanban AI VersionControl CRUD Profiling JSON Event UnitTesting Merge Networking Repository SQL NoSQL PullRequest Loop Bitwise DOM AI Database Stack Git TCP-IP NoSQL Database TCP-IP Conditional HTTP ORM Memory ErrorHandling Optimization Event DOM SQL Automation Microservices Automation Memory Scalability Scrum HTML Database Socket AJAX Commit MachineLearning APIKey Scripting CSS GarbageCollection HTML Branch ErrorHandling VersionControl Cryptography ErrorHandling XML CSS Debugging CSS AJAX Repository Performance Database Dependency Profiling Deployment Security PullRequest Event GarbageCollection Bitwise Variable Scalability GarbageCollection Loop CSS Algorithm Memory JSON GUI Deployment Optimization Security ContinuousIntegration JSON Git ErrorHandling Socket AI BigData Markup DOM JSON Performance Stack Automation AJAX API CRUD Networking Debugging VersionControl Complexity Performance Commit PullRequest Scrum CRUD AI Authentication Merge APIEndpoint Optimization Firewall JavaScript Firewall HTML Authentication Kanban HTML PullRequest Stack Function Commit JSON Conditional DevOps Agile Networking DOM Dependency Agile Scrum Deployment DevOps TCP-IP Socket Memory PullRequest Firewall DNS Security GUI Branch Complexity VersionControl DOM PullRequest Variable Event Variable Conditional Bitwise GarbageCollection Scalability Commit Automation Socket Dependency Function CSS Scripting Memory Kanban HTTP AJAX BigData Optimization AJAX XML Authentication CSS Optimization Scrum Microservices Scrum APIEndpoint Git Repository Markup XML UnitTesting Repository Cryptography PullRequest APIKey VersionControl Repository TCP-IP Cryptography APIKey Optimization JSON Firewall Kanban UnitTesting PullRequest Loop Scripting Memory Scalability PullRequest APIKey Kanban Markup AI AI Authorization API Automation Database CRUD VersionControl Loop Scalability Microservices Authentication Stack Dependency XML Memory Waterfall AJAX Function Memory ORM API HTTP Scalability Scripting GarbageCollection Deployment Repository Commit Authentication Commit MachineLearning SQL REST Debugging Algorithm UnitTesting DOM Loop Conditional Debugging Library Profiling Automation APIEndpoint DevOps Repository HTML Authentication REST PullRequest Deployment Merge Firewall Bitwise Git Cryptography Microservices Loop JSON Commit Markup BigData Conditional VersionControl DNS Repository APIEndpoint ORM DOM Library Commit IntegrationTesting Algorithm CSS DNS Optimization TCP-IP Socket Authorization Loop UnitTesting Conditional ContinuousIntegration PullRequest Heap MachineLearning Firewall BigData SQL Performance Performance Markup Exception Profiling Merge JSON VersionControl DNS Markup Algorithm NoSQL DNS Scrum API Profiling Security Firewall Performance NoSQL NoSQL AI TCP-IP Waterfall Complexity Function Merge Scrum TCP-IP AJAX Library Firewall Kanban APIEndpoint ErrorHandling Kanban DevOps Automation Branch VersionControl Loop APIKey Scrum Performance VersionControl REST Function Commit Database CRUD DNS JSON APIEndpoint JavaScript IntegrationTesting HTML CRUD CSS Memory Cryptography Git AI Profiling Microservices BigData Security BigData Dependency Cryptography Security APIKey Exception NoSQL ErrorHandling PullRequest GarbageCollection CRUD Optimization VersionControl Scrum Branch Algorithm NoSQL Markup APIKey CSS APIKey AJAX UnitTesting Commit Performance JSON JSON Optimization Networking CSS Library Cryptography APIEndpoint ORM PullRequest Repository BigData Exception Library ORM Socket Exception XML MachineLearning Markup Security APIEndpoint Authentication Heap Scalability API TCP-IP Database IntegrationTesting Dependency DNS PullRequest ErrorHandling XML Profiling Agile Scripting Kanban GUI Commit Deployment Agile DevOps APIEndpoint APIKey Function Scrum Git DevOps AI Git Heap DNS ORM Automation HTML HTTP Optimization Branch Branch HTTP Library GUI Loop Function IntegrationTesting Commit Microservices Networking Authorization Agile Kanban CRUD HTML PullRequest Agile Profiling NoSQL BigData REST Automation GarbageCollection ContinuousIntegration Scalability NoSQL VersionControl Networking Scrum Deployment APIEndpoint Debugging Merge AI REST ORM Function Scrum ErrorHandling UnitTesting Authentication CSS Microservices Git Waterfall Stack UnitTesting Commit Debugging MachineLearning HTTP BigData Merge Conditional REST Git IntegrationTesting DevOps Variable Debugging Performance VersionControl Exception Socket Waterfall PullRequest Firewall Debugging Branch Scalability HTTP AI ContinuousIntegration UnitTesting AJAX CRUD DNS Stack BigData Bitwise Debugging Heap Authentication Algorithm ErrorHandling Microservices APIEndpoint MachineLearning API Library Git Scalability VersionControl Performance ORM IntegrationTesting HTML Firewall Authorization Optimization Event Exception Scripting HTTP Dependency DevOps Firewall HTML Markup APIKey ContinuousIntegration Heap VersionControl API JavaScript Conditional Security Function Authentication NoSQL APIEndpoint MachineLearning Scalability Waterfall VersionControl Database Library AI UnitTesting SQL Dependency Library Memory Networking IntegrationTesting Security Waterfall CRUD CSS ORM CRUD APIKey DOM APIKey GarbageCollection Merge CSS ErrorHandling NoSQL HTML API UnitTesting UnitTesting BigData Scalability IntegrationTesting Profiling Repository Variable Scalability GUI CSS SQL NoSQL HTML Waterfall Authentication Authentication Algorithm Security Networking Waterfall Scripting Firewall APIKey DNS PullRequest VersionControl CSS Event Loop Merge Authentication Branch Performance APIEndpoint JavaScript Event Performance Scalability Authorization Memory Conditional TCP-IP Bitwise XML Algorithm CRUD Algorithm AI JavaScript Microservices Agile Microservices Event Dependency XML TCP-IP Exception Memory Branch Variable Debugging Security AJAX NoSQL Profiling HTML TCP-IP ContinuousIntegration Bitwise HTTP CRUD Function Firewall Memory Optimization Cryptography Optimization JSON ContinuousIntegration NoSQL Exception Performance Authorization Networking Stack Waterfall Cryptography Authorization Merge AJAX Database XML UnitTesting APIEndpoint Socket IntegrationTesting APIEndpoint Exception Dependency MachineLearning JSON GUI Authentication Heap HTTP Memory Merge APIKey Bitwise NoSQL TCP-IP Socket Dependency Scripting GUI Authentication DOM Repository Function Event Library Scripting DNS Security AI Memory ORM Authorization JavaScript JavaScript DOM Firewall SQL Optimization Event DevOps APIEndpoint Performance Function CSS ORM Security Security Git Complexity Bitwise MachineLearning Loop ContinuousIntegration Function Optimization DNS BigData Socket Socket Exception AJAX UnitTesting Heap Stack AJAX PullRequest BigData AJAX GarbageCollection REST Waterfall Markup Database Agile Function Microservices NoSQL Exception Deployment Deployment JSON Automation Library Socket Heap JSON GUI AI API GarbageCollection Repository Conditional Deployment ORM APIEndpoint Agile SQL REST Security Branch AJAX CSS Firewall REST Dependency Exception SQL Debugging Loop UnitTesting Heap Performance DNS Markup Cryptography Kanban Variable Deployment Socket Heap Heap Repository Loop ORM GarbageCollection Stack MachineLearning Kanban Authorization CSS AJAX Authorization Scalability Networking HTTP Debugging Memory Scalability Performance PullRequest Git Heap PullRequest Authentication Loop Memory Networking REST Repository Optimization Automation MachineLearning Automation Agile BigData ORM Profiling Event Git Algorithm Memory CRUD MachineLearning ErrorHandling GarbageCollection Library Scripting Stack DOM AJAX ORM Variable Performance Automation DNS DNS HTML Bitwise Profiling Networking Conditional Authorization Conditional Kanban MachineLearning Scripting Markup REST MachineLearning AI Markup NoSQL Firewall Debugging Waterfall JSON Database BigData XML ErrorHandling Commit GarbageCollection Networking Optimization Dependency Markup AI Dependency SQL Kanban Networking Function ErrorHandling Algorithm BigData Deployment Repository CSS PullRequest Automation XML Commit Merge GUI Exception Optimization ErrorHandling REST HTML XML Commit HTML Optimization UnitTesting Heap Agile ErrorHandling AI Security MachineLearning APIKey Complexity Optimization Deployment Complexity REST NoSQL IntegrationTesting Git Bitwise Automation Branch ContinuousIntegration Memory CRUD Scrum Conditional APIEndpoint GUI DOM Library HTML IntegrationTesting APIEndpoint GUI IntegrationTesting GUI API Bitwise GarbageCollection Agile VersionControl UnitTesting Scalability SQL Agile BigData UnitTesting MachineLearning Microservices Security Exception Dependency Event Database Deployment Scripting AI JSON Algorithm Profiling Memory GUI Function JSON Scripting Heap DNS ORM Conditional AI Authentication Complexity API Git Merge JSON XML Markup Commit Authorization GarbageCollection Microservices Conditional Waterfall Microservices Heap Repository Authorization CRUD UnitTesting Loop Authentication Conditional Security Agile Conditional Variable UnitTesting DevOps APIEndpoint Memory Heap CRUD Deployment GarbageCollection APIEndpoint Socket Socket ContinuousIntegration DevOps Merge JSON Kanban Waterfall Merge Conditional Dependency Bitwise Firewall Agile Scalability Markup APIEndpoint Database Dependency Microservices Memory HTML Loop API Loop MachineLearning Dependency API Firewall ORM Kanban HTTP Library CSS Deployment Scripting IntegrationTesting Branch ContinuousIntegration Event Microservices Scrum Dependency Security REST Networking VersionControl HTTP HTTP Commit Performance Complexity Merge Variable Complexity AJAX API Heap Profiling UnitTesting Cryptography JSON Conditional API Variable PullRequest ORM IntegrationTesting Complexity NoSQL Security Automation XML AJAX DevOps DNS Complexity MachineLearning Commit CSS Cryptography Performance Database Database Algorithm Performance IntegrationTesting Dependency Exception Merge Commit Algorithm HTTP JSON TCP-IP Repository Automation SQL Optimization Waterfall BigData Optimization Debugging Stack CSS IntegrationTesting Heap ContinuousIntegration Complexity API PullRequest Cryptography Cryptography Debugging Microservices Repository CSS DOM Authorization HTML MachineLearning Bitwise Complexity TCP-IP Scalability XML Microservices Scrum GarbageCollection NoSQL Conditional JavaScript Authentication Authorization AJAX NoSQL Debugging GarbageCollection Variable Event Exception VersionControl Bitwise SQL Agile REST Waterfall Socket HTML HTML HTTP Firewall AI ErrorHandling Variable Branch Waterfall Performance Firewall MachineLearning Function Loop Agile Security GarbageCollection APIKey APIEndpoint Exception JSON API PullRequest DevOps API APIEndpoint Microservices Microservices Exception ORM Cryptography Bitwise Dependency JavaScript ErrorHandling Scripting Performance API Bitwise Scrum Scrum Repository Markup Firewall Scripting Library Security DevOps Socket Memory Loop Optimization GarbageCollection Authentication Memory Security Waterfall Waterfall Memory Security Authentication Scripting Memory Function Markup Algorithm APIKey Bitwise VersionControl Waterfall Conditional Authorization API Git Automation Function Memory Commit Optimization Git Event DevOps NoSQL Agile Database Automation Performance Agile Automation VersionControl Conditional Function BigData Variable Bitwise Scripting Agile Variable AJAX Networking Function Loop Authorization PullRequest Git Automation Exception GarbageCollection Branch Conditional Security Algorithm IntegrationTesting DOM APIEndpoint Algorithm JSON API NoSQL Markup DNS Function TCP-IP Bitwise Scalability HTML Scrum Performance Kanban Database DNS APIKey Authentication Profiling Complexity AJAX ErrorHandling Waterfall Conditional APIKey Repository APIEndpoint Scripting CRUD Git Database Authentication Conditional Performance Database PullRequest JavaScript BigData Debugging AI Profiling Authentication Conditional Deployment ErrorHandling Database Performance TCP-IP Scrum Event Merge APIKey Markup Cryptography AI BigData Security Authentication Microservices MachineLearning Cryptography AJAX Deployment Branch AJAX ORM API GUI Profiling ErrorHandling Bitwise Microservices ErrorHandling DOM DevOps Loop CRUD AJAX Exception JavaScript HTTP APIKey Markup CRUD SQL CRUD Exception Stack Algorithm Function Profiling Scripting BigData Agile NoSQL Deployment Waterfall Bitwise Branch Markup DNS VersionControl TCP-IP GUI VersionControl Socket IntegrationTesting Branch Socket NoSQL Database Markup HTML TCP-IP API REST Profiling REST ErrorHandling DOM Performance API GarbageCollection Performance Function Library Git CSS Optimization DevOps Git Agile Commit Repository Exception Git Database Microservices AJAX Firewall DOM Dependency APIKey ContinuousIntegration PullRequest SQL Database AJAX Kanban Deployment JavaScript CSS Microservices AI Database PullRequest IntegrationTesting ErrorHandling PullRequest Agile Variable Exception NoSQL MachineLearning NoSQL Branch NoSQL Performance Automation Branch AJAX Agile DOM Kanban Scalability CSS Exception Heap Automation Security VersionControl AI PullRequest VersionControl Waterfall Networking Branch Algorithm Scripting Merge Deployment Event Agile Security Heap DOM JavaScript Networking Deployment JavaScript Heap ContinuousIntegration TCP-IP Function APIEndpoint Performance JSON ErrorHandling XML Debugging Repository Microservices Loop GarbageCollection Firewall CSS Repository Memory Algorithm Markup Commit Loop VersionControl Deployment Networking Memory JavaScript DOM Database Agile Function AI Commit Library Event Stack MachineLearning Function Automation Stack Bitwise Scrum Merge AJAX NoSQL Security Authentication Scripting Commit GarbageCollection GarbageCollection Cryptography GarbageCollection Algorithm Microservices Dependency ORM GUI CSS Agile Dependency PullRequest Conditional Heap SQL ContinuousIntegration Git PullRequest Bitwise CRUD Memory Authentication Heap Authorization Scalability Bitwise Agile Complexity Microservices DOM Algorithm GUI XML TCP-IP Variable Socket DOM DOM Event Commit UnitTesting Commit ORM AJAX IntegrationTesting CRUD Agile Authorization Socket VersionControl HTML DNS Conditional VersionControl SQL Variable REST SQL SQL ContinuousIntegration Stack IntegrationTesting Socket Commit Merge Authorization REST AI Waterfall Networking AI NoSQL Exception Markup API Merge REST Authentication Scalability NoSQL ContinuousIntegration Kanban CRUD XML Event Complexity IntegrationTesting Scripting Automation VersionControl Firewall Scalability Function API Loop Function Algorithm DOM Git API Security Scripting Complexity Firewall Conditional Cryptography Markup Optimization HTTP SQL Conditional Library JSON Scalability DevOps Conditional ORM Loop Profiling Kanban Merge NoSQL API Networking HTML VersionControl Algorithm AI REST HTTP Branch CRUD JavaScript Loop CRUD MachineLearning Merge BigData Function REST Database DOM Library Authentication IntegrationTesting CRUD Cryptography Deployment Firewall Firewall UnitTesting Scrum AJAX DNS AJAX Automation CRUD REST AJAX CSS CSS Optimization DOM APIEndpoint Branch Dependency Variable BigData Agile NoSQL UnitTesting Algorithm Deployment JavaScript Dependency Branch Authentication Repository Deployment Heap Heap Algorithm Dependency Merge Firewall Scripting JSON Automation Security NoSQL BigData APIKey HTML Firewall Scalability MachineLearning Conditional GarbageCollection DNS Commit Scripting Profiling CSS Memory Performance Heap Variable JSON APIEndpoint ORM Firewall JSON CRUD Performance Optimization Deployment UnitTesting GarbageCollection Security Authorization Authentication JavaScript BigData UnitTesting Loop Authorization Event MachineLearning CRUD CSS APIKey Database Socket Complexity BigData APIKey Agile ContinuousIntegration Dependency Loop Scripting Function Networking CSS Markup Scrum Memory Authentication MachineLearning SQL Variable API Variable Memory Branch Function GUI AJAX Event Dependency NoSQL Profiling Database Debugging Waterfall Function Firewall APIEndpoint PullRequest VersionControl Cryptography CSS Profiling Microservices APIKey TCP-IP Function Authentication VersionControl HTML ORM Algorithm MachineLearning ORM Authorization Event Debugging Git Debugging AJAX Deployment Optimization Security HTTP Dependency SQL GUI DOM APIEndpoint Repository Event DevOps Waterfall ORM Heap Heap HTML DOM Database Kanban Deployment APIEndpoint TCP-IP Profiling SQL Deployment Heap Database Profiling REST Debugging Authorization HTML Database Waterfall NoSQL Scalability Git CSS Agile Cryptography Exception Heap Algorithm Variable Performance GUI Authorization TCP-IP ErrorHandling CRUD Scalability NoSQL Algorithm Markup Heap ORM BigData DOM NoSQL Automation SQL Performance Markup AI Dependency Agile Algorithm Library Complexity Automation Function JavaScript UnitTesting JavaScript GUI Git Optimization REST TCP-IP Bitwise SQL Function Function Commit Optimization Heap TCP-IP Automation Git Memory SQL MachineLearning Waterfall GUI SQL Bitwise Kanban SQL Dependency Debugging Markup Automation Networking Bitwise ContinuousIntegration AI DNS Debugging Merge Optimization Deployment Complexity Automation ContinuousIntegration Security Memory Socket Memory AJAX Event Debugging Merge Memory DevOps Performance Kanban Profiling Merge Scripting TCP-IP ErrorHandling Exception APIKey Profiling Markup APIKey Conditional APIKey Library Dependency Scalability API Scripting Microservices CRUD CSS Scalability JavaScript TCP-IP REST Agile Stack Scripting TCP-IP ORM APIEndpoint GUI ContinuousIntegration PullRequest Merge HTTP Memory BigData Variable ContinuousIntegration Git Memory IntegrationTesting Memory Merge CRUD IntegrationTesting ORM Socket Bitwise Variable Stack ContinuousIntegration AI Firewall Heap Exception MachineLearning Security Waterfall MachineLearning NoSQL Security GUI ORM NoSQL HTML UnitTesting Kanban Conditional BigData Deployment MachineLearning VersionControl Merge Commit Profiling Performance DevOps Complexity Loop Kanban Bitwise Optimization Algorithm DOM Repository AJAX Security Repository Automation MachineLearning TCP-IP Scripting IntegrationTesting Networking Repository CRUD ORM NoSQL Authorization DOM JavaScript Algorithm Agile Git Memory Merge XML ContinuousIntegration DevOps Commit ContinuousIntegration Merge Merge Database REST Scrum TCP-IP APIEndpoint Deployment Exception MachineLearning CSS DNS Merge UnitTesting Exception Security Exception DOM Waterfall CSS Performance Memory AI UnitTesting HTML Git Algorithm DNS Merge SQL Scalability Merge Dependency GarbageCollection Complexity Authentication Exception Complexity HTTP AI Firewall GUI Algorithm Conditional Waterfall Security Markup AJAX APIEndpoint GUI ErrorHandling Function Complexity NoSQL ContinuousIntegration HTTP Merge Library NoSQL APIEndpoint Scrum API DevOps APIEndpoint Deployment Database Bitwise CSS Git Microservices DNS Algorithm Branch BigData CRUD Merge Optimization Dependency Optimization Security ORM Memory Firewall API REST ErrorHandling Profiling GarbageCollection BigData PullRequest MachineLearning MachineLearning Heap Dependency Deployment ORM MachineLearning Event Stack AI Scalability Performance VersionControl SQL Authorization IntegrationTesting XML CSS Exception Scripting XML ContinuousIntegration APIKey DNS Bitwise Cryptography Library AJAX Scripting SQL HTML Repository Kanban Heap Security Database API HTML Conditional NoSQL Performance Heap Branch IntegrationTesting Database Markup Variable Networking Security Merge GUI Branch JSON AJAX Exception APIEndpoint ORM GUI Commit DevOps AI Authorization Authorization HTTP DNS CRUD Database Markup Markup Library ORM APIEndpoint Agile Exception Deployment HTTP APIKey TCP-IP Event Heap Microservices Waterfall Cryptography Debugging Deployment Deployment CSS MachineLearning Stack Commit Performance IntegrationTesting APIKey Authorization Markup Database Security Conditional Performance Complexity IntegrationTesting Performance Complexity AI CSS Microservices UnitTesting Optimization Waterfall Security DOM Exception Variable IntegrationTesting BigData ORM Commit GarbageCollection JSON Exception Memory Branch Automation UnitTesting PullRequest Bitwise APIEndpoint IntegrationTesting Scripting Scrum Exception Networking Git Stack UnitTesting Heap Repository Memory Repository ErrorHandling Debugging Authorization HTML JavaScript NoSQL DNS JavaScript Debugging ORM HTTP Git Scalability Scripting Microservices Bitwise Scrum Conditional Bitwise Networking Automation Cryptography DOM Stack Git BigData DNS ErrorHandling AI Branch Socket TCP-IP ErrorHandling PullRequest Markup Dependency JavaScript Dependency Stack Scrum Kanban AJAX Algorithm Heap AJAX Stack DevOps Scrum Waterfall Algorithm Automation CRUD APIEndpoint Exception Markup HTML Cryptography Firewall ContinuousIntegration Socket XML Scripting Event Commit CRUD Debugging APIKey VersionControl UnitTesting Authorization Repository Repository PullRequest Database Merge ErrorHandling UnitTesting Repository Firewall HTML Scrum GUI Branch Microservices AJAX Scalability GUI Event Scalability Variable HTTP BigData AI Heap Profiling Markup ContinuousIntegration HTML JSON Repository Library Optimization GUI Memory '"
            ],
            "application/vnd.google.colaboratory.intrinsic+json": {
              "type": "string"
            }
          },
          "metadata": {},
          "execution_count": 2
        }
      ],
      "source": [
        "mytext"
      ]
    },
    {
      "cell_type": "code",
      "execution_count": null,
      "id": "3f0d8c7b",
      "metadata": {
        "id": "3f0d8c7b"
      },
      "outputs": [],
      "source": [
        "mytokenizer = Tokenizer()\n",
        "mytokenizer.fit_on_texts([mytext])\n",
        "total_words = len(mytokenizer.word_index) + 1"
      ]
    },
    {
      "cell_type": "code",
      "execution_count": null,
      "id": "c67d349f",
      "metadata": {
        "colab": {
          "base_uri": "https://localhost:8080/"
        },
        "id": "c67d349f",
        "outputId": "9924a61b-e76c-4eaf-f37f-bcbd9dc02bc4"
      },
      "outputs": [
        {
          "output_type": "execute_result",
          "data": {
            "text/plain": [
              "{'ajax': 1,\n",
              " 'memory': 2,\n",
              " 'security': 3,\n",
              " 'nosql': 4,\n",
              " 'merge': 5,\n",
              " 'performance': 6,\n",
              " 'markup': 7,\n",
              " 'orm': 8,\n",
              " 'heap': 9,\n",
              " 'css': 10,\n",
              " 'ai': 11,\n",
              " 'apiendpoint': 12,\n",
              " 'exception': 13,\n",
              " 'function': 14,\n",
              " 'versioncontrol': 15,\n",
              " 'crud': 16,\n",
              " 'machinelearning': 17,\n",
              " 'pullrequest': 18,\n",
              " 'conditional': 19,\n",
              " 'agile': 20,\n",
              " 'dependency': 21,\n",
              " 'algorithm': 22,\n",
              " 'scripting': 23,\n",
              " 'automation': 24,\n",
              " 'html': 25,\n",
              " 'repository': 26,\n",
              " 'git': 27,\n",
              " 'waterfall': 28,\n",
              " 'commit': 29,\n",
              " 'deployment': 30,\n",
              " 'database': 31,\n",
              " 'optimization': 32,\n",
              " 'firewall': 33,\n",
              " 'bigdata': 34,\n",
              " 'scalability': 35,\n",
              " 'bitwise': 36,\n",
              " 'authorization': 37,\n",
              " 'dom': 38,\n",
              " 'apikey': 39,\n",
              " 'authentication': 40,\n",
              " 'tcp': 41,\n",
              " 'ip': 42,\n",
              " 'unittesting': 43,\n",
              " 'api': 44,\n",
              " 'garbagecollection': 45,\n",
              " 'json': 46,\n",
              " 'sql': 47,\n",
              " 'branch': 48,\n",
              " 'errorhandling': 49,\n",
              " 'microservices': 50,\n",
              " 'rest': 51,\n",
              " 'continuousintegration': 52,\n",
              " 'integrationtesting': 53,\n",
              " 'variable': 54,\n",
              " 'event': 55,\n",
              " 'profiling': 56,\n",
              " 'dns': 57,\n",
              " 'cryptography': 58,\n",
              " 'loop': 59,\n",
              " 'scrum': 60,\n",
              " 'gui': 61,\n",
              " 'networking': 62,\n",
              " 'javascript': 63,\n",
              " 'debugging': 64,\n",
              " 'http': 65,\n",
              " 'kanban': 66,\n",
              " 'socket': 67,\n",
              " 'complexity': 68,\n",
              " 'devops': 69,\n",
              " 'library': 70,\n",
              " 'xml': 71,\n",
              " 'stack': 72}"
            ]
          },
          "metadata": {},
          "execution_count": 4
        }
      ],
      "source": [
        "mytokenizer.word_index"
      ]
    },
    {
      "cell_type": "code",
      "execution_count": null,
      "id": "c4c696fe",
      "metadata": {
        "id": "c4c696fe"
      },
      "outputs": [],
      "source": [
        "my_input_sequences = []\n",
        "for line in mytext.split('\\n'):\n",
        "    #print(line)\n",
        "    token_list = mytokenizer.texts_to_sequences([line])[0]\n",
        "    #print(token_list)\n",
        "    for i in range(1, len(token_list)):\n",
        "        my_n_gram_sequence = token_list[:i+1]\n",
        "        print(my_n_gram_sequence)\n",
        "        my_input_sequences.append(my_n_gram_sequence)\n",
        "        # print(my_input_sequences)"
      ]
    },
    {
      "cell_type": "code",
      "source": [
        "print(len(token_list))"
      ],
      "metadata": {
        "colab": {
          "base_uri": "https://localhost:8080/"
        },
        "id": "oewjz2zXD5wo",
        "outputId": "db48cf55-49d3-4f75-8f19-5af534fd0765"
      },
      "id": "oewjz2zXD5wo",
      "execution_count": null,
      "outputs": [
        {
          "output_type": "stream",
          "name": "stdout",
          "text": [
            "2646\n"
          ]
        }
      ]
    },
    {
      "cell_type": "code",
      "execution_count": null,
      "id": "bd13dce9",
      "metadata": {
        "id": "bd13dce9"
      },
      "outputs": [],
      "source": [
        "max_sequence_len = max([len(seq) for seq in my_input_sequences])\n",
        "input_sequences = np.array(pad_sequences(my_input_sequences, maxlen=max_sequence_len, padding='pre'))\n",
        "#  ensures that all the sequences have the same length by adding zeros at the beginning of shorter sequences."
      ]
    },
    {
      "cell_type": "code",
      "execution_count": null,
      "id": "cf398edc",
      "metadata": {
        "colab": {
          "base_uri": "https://localhost:8080/"
        },
        "id": "cf398edc",
        "outputId": "15bdbfcc-c0c9-4a08-c5df-076dfe06cf0b"
      },
      "outputs": [
        {
          "output_type": "execute_result",
          "data": {
            "text/plain": [
              "array([ 0,  0,  0, ..., 69, 13, 54], dtype=int32)"
            ]
          },
          "metadata": {},
          "execution_count": 8
        }
      ],
      "source": [
        "input_sequences[1]"
      ]
    },
    {
      "cell_type": "code",
      "execution_count": null,
      "id": "ce62fdd7",
      "metadata": {
        "id": "ce62fdd7"
      },
      "outputs": [],
      "source": [
        "X = input_sequences[:, :-1]\n",
        "y = input_sequences[:, -1]"
      ]
    },
    {
      "cell_type": "code",
      "execution_count": null,
      "id": "6385ea38",
      "metadata": {
        "colab": {
          "base_uri": "https://localhost:8080/"
        },
        "id": "6385ea38",
        "outputId": "d026dc35-4097-4c75-db0d-70ece2d4a886"
      },
      "outputs": [
        {
          "output_type": "execute_result",
          "data": {
            "text/plain": [
              "array([ 0,  0,  0, ...,  0, 69, 13], dtype=int32)"
            ]
          },
          "metadata": {},
          "execution_count": 10
        }
      ],
      "source": [
        "X[1]"
      ]
    },
    {
      "cell_type": "code",
      "execution_count": null,
      "id": "bc113505",
      "metadata": {
        "colab": {
          "base_uri": "https://localhost:8080/"
        },
        "id": "bc113505",
        "outputId": "1c34999f-1aa0-47fa-b65b-9e0e8897420e"
      },
      "outputs": [
        {
          "output_type": "execute_result",
          "data": {
            "text/plain": [
              "(2645,)"
            ]
          },
          "metadata": {},
          "execution_count": 11
        }
      ],
      "source": [
        "y.shape"
      ]
    },
    {
      "cell_type": "code",
      "execution_count": null,
      "id": "2ef255b4",
      "metadata": {
        "id": "2ef255b4"
      },
      "outputs": [],
      "source": [
        "y = np.array(tf.keras.utils.to_categorical(y, num_classes=total_words))\n",
        "#  transforms the categorical variable y into a one-hot encoded representation"
      ]
    },
    {
      "cell_type": "code",
      "execution_count": null,
      "id": "1e13587e",
      "metadata": {
        "colab": {
          "base_uri": "https://localhost:8080/"
        },
        "id": "1e13587e",
        "outputId": "dba07af3-6e65-4dae-b89f-f0c733a24ca5"
      },
      "outputs": [
        {
          "output_type": "execute_result",
          "data": {
            "text/plain": [
              "54"
            ]
          },
          "metadata": {},
          "execution_count": 12
        }
      ],
      "source": [
        "y[1]"
      ]
    },
    {
      "cell_type": "code",
      "execution_count": null,
      "id": "28ac495c",
      "metadata": {
        "colab": {
          "base_uri": "https://localhost:8080/"
        },
        "id": "28ac495c",
        "outputId": "eeed65df-bf0b-41a2-9b2e-544975444681"
      },
      "outputs": [
        {
          "output_type": "stream",
          "name": "stdout",
          "text": [
            "Model: \"sequential_1\"\n",
            "_________________________________________________________________\n",
            " Layer (type)                Output Shape              Param #   \n",
            "=================================================================\n",
            " embedding (Embedding)       (None, 2645, 100)         7300      \n",
            "                                                                 \n",
            " lstm (LSTM)                 (None, 150)               150600    \n",
            "                                                                 \n",
            " dense (Dense)               (None, 73)                11023     \n",
            "                                                                 \n",
            "=================================================================\n",
            "Total params: 168923 (659.86 KB)\n",
            "Trainable params: 168923 (659.86 KB)\n",
            "Non-trainable params: 0 (0.00 Byte)\n",
            "_________________________________________________________________\n",
            "None\n"
          ]
        }
      ],
      "source": [
        "model = Sequential()\n",
        "model.add(Embedding(total_words, 100, input_length=max_sequence_len-1))\n",
        "model.add(LSTM(150))\n",
        "model.add(Dense(total_words, activation='softmax'))\n",
        "print(model.summary())"
      ]
    },
    {
      "cell_type": "code",
      "execution_count": null,
      "id": "912b7746",
      "metadata": {
        "id": "912b7746"
      },
      "outputs": [],
      "source": [
        "model.compile(loss='categorical_crossentropy', optimizer='adam', metrics=['accuracy'])"
      ]
    },
    {
      "cell_type": "code",
      "source": [
        "model.fit(X, y, epochs=100, verbose=1) # training the model"
      ],
      "metadata": {
        "id": "OjX58NBtWGHU"
      },
      "id": "OjX58NBtWGHU",
      "execution_count": null,
      "outputs": []
    },
    {
      "cell_type": "code",
      "execution_count": null,
      "id": "dc30fe17",
      "metadata": {
        "colab": {
          "base_uri": "https://localhost:8080/"
        },
        "id": "dc30fe17",
        "outputId": "1294b9e4-a15b-4cfd-a044-6e722cc3b160"
      },
      "outputs": [
        {
          "output_type": "stream",
          "name": "stdout",
          "text": [
            "[11, 22, 8]\n",
            "1/1 [==============================] - 1s 848ms/step\n",
            "[11, 22, 8, 6]\n",
            "1/1 [==============================] - 0s 468ms/step\n",
            "ai Algorithm ORM performance performance\n"
          ]
        }
      ],
      "source": [
        "input_text = \"ai Algorithm ORM\"\n",
        "predict_next_words= 2\n",
        "\n",
        "for _ in range(predict_next_words):\n",
        "    token_list = mytokenizer.texts_to_sequences([input_text])[0]\n",
        "    print(token_list)\n",
        "    token_list = pad_sequences([token_list], maxlen=max_sequence_len-1, padding='pre')\n",
        "    predicted = np.argmax(model.predict(token_list), axis=-1)\n",
        "    output_word = \"\"\n",
        "    for word, index in mytokenizer.word_index.items():\n",
        "        if index == predicted:\n",
        "            output_word = word\n",
        "            break\n",
        "    input_text += \" \" + output_word\n",
        "\n",
        "print(input_text)"
      ]
    }
  ],
  "metadata": {
    "kernelspec": {
      "display_name": "Python 3",
      "name": "python3"
    },
    "language_info": {
      "codemirror_mode": {
        "name": "ipython",
        "version": 3
      },
      "file_extension": ".py",
      "mimetype": "text/x-python",
      "name": "python",
      "nbconvert_exporter": "python",
      "pygments_lexer": "ipython3",
      "version": "3.9.15"
    },
    "colab": {
      "provenance": []
    },
    "accelerator": "TPU"
  },
  "nbformat": 4,
  "nbformat_minor": 5
}